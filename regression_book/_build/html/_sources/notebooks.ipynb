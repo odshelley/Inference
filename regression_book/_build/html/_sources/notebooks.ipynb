{
 "cells": [
  {
   "cell_type": "code",
   "execution_count": null,
   "metadata": {},
   "outputs": [],
   "source": [
    "from matplotlib import rcParams, cycler\n",
    "import matplotlib.pyplot as plt\n",
    "import numpy as np\n",
    "plt.ion()"
   ]
  },
  {
   "attachments": {},
   "cell_type": "markdown",
   "metadata": {},
   "source": [
    "## Simple Linear Regression\n",
    "\n",
    "Suppose that we have data $\\mathcal{D}:=\\{(x_i,y_i):i \\in \\{1,\\dots,n\\}\\}$ where $\\{(x_i,y_i)\\}_{i=1}^n$ are observed values of random variables $\\{Y_i\\}_{i=1}^n$ and $\\{X_i\\}_{i=1}^n$ respectively, satisfying the relationship\n",
    "```{math}\n",
    ":label: eq_regression\n",
    "Y_i = \\beta_0 + \\beta_1 X_i + \\varepsilon_i.\n",
    "```\n",
    "\n",
    "\n",
    "Here, $\\{\\varepsilon_i\\}_{i=1}^n$ are uncorrelated mean zero random variables with common variance $\\sigma^2$, which we call *random errors*. \n",
    "\n",
    "````{prf:definition}\n",
    ":label: my-definition\n",
    "\n",
    "For random variables $Y$ and $X$ we define the *population regression function* (or merely the regression) of $Y$ with respect to $X$ as the function $f:\\mathbb{R} \\to \\mathbb{R}$ such that \n",
    "\n",
    "$$\n",
    "    f(x) = \\mathbb{E}\\left[ Y | X = x \\right].\n",
    "$$\n",
    "````\n",
    "In general, the word *regression* is used in statistics to signify a relationship between variables. From equation $(1)$, we can see that the regression function of any $Y_i$ with respect to $X_i$ is of the form \n",
    "\n",
    "$$\n",
    "    \\mathbb{E}\\left[ Y_i | X_i = x_i \\right]  = \\beta_0 + \\beta_1 x_i,\n",
    "$$\n",
    "\n",
    "which is a linear function of $x_i$. Thus, equation (1) defines a *linear regression*. One main purpose of regression is to predict $Y_i$ from of instances of $X_i$, and so it is common to refer to $Y_i$ as the response variable and $X_i$ as the predictor variable. The quantities $\\beta_0$ and $\\beta_1$ are called the *intercept* and *slope*, respectively, and are assumed to be fixed and unknown. Together they are known as the model *coefficients* or *parameters*. It is these unknown parameters that we wish to estimate, so that we can describe the relationship between the $Y_i$ and $X_i$."
   ]
  },
  {
   "cell_type": "markdown",
   "metadata": {},
   "source": [
    "There is a lot more that you can do with outputs (such as including interactive outputs)\n",
    "with your book. For more information about this, see [the Jupyter Book documentation](https://jupyterbook.org)"
   ]
  }
 ],
 "metadata": {
  "kernelspec": {
   "display_name": "Python 3",
   "language": "python",
   "name": "python3"
  },
  "language_info": {
   "codemirror_mode": {
    "name": "ipython",
    "version": 3
   },
   "file_extension": ".py",
   "mimetype": "text/x-python",
   "name": "python",
   "nbconvert_exporter": "python",
   "pygments_lexer": "ipython3",
   "version": "3.8.0"
  },
  "widgets": {
   "application/vnd.jupyter.widget-state+json": {
    "state": {},
    "version_major": 2,
    "version_minor": 0
   }
  }
 },
 "nbformat": 4,
 "nbformat_minor": 4
}
